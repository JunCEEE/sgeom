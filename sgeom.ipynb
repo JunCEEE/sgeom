{
 "cells": [
  {
   "cell_type": "code",
   "execution_count": 2,
   "id": "b33f3690-d91f-49d9-9772-1683af9b22ce",
   "metadata": {},
   "outputs": [],
   "source": [
    "import matplotlib.pyplot as plt\n",
    "import numpy as np\n",
    "from scipy.spatial.transform import Rotation as R\n",
    "from numpy import linalg as LA"
   ]
  },
  {
   "cell_type": "code",
   "execution_count": 6,
   "id": "b2620209-8ab9-4c8a-af7b-e6bb870615e9",
   "metadata": {},
   "outputs": [],
   "source": [
    "class sgeom_coordinate:\n",
    "    def __init__(\n",
    "        self,\n",
    "        clen,\n",
    "        poni,\n",
    "        pixel_size,\n",
    "        X1=[0, 0, 1],\n",
    "        X2=[1, 0, 0],\n",
    "        X3=[0, 1, 0],\n",
    "        rot=[0.0, 0.0, 0.0],\n",
    "    ):\n",
    "        self.clen = clen\n",
    "        self.poni = poni\n",
    "        self.pixel_size = pixel_size\n",
    "\n",
    "        # Lab direction vectors by sample vectors\n",
    "        self.X1_hat = np.array(X1) / LA.norm(X1)  # Sample z\n",
    "        self.X2_hat = np.array(X2) / LA.norm(X2)  # Sample x\n",
    "        self.X3_hat = np.array(X3) / LA.norm(X3)  # Sample y\n",
    "        # Det coordinate expressed by lab vectors\n",
    "        d1_hat_lab = np.array([1, 0, 0])\n",
    "        d2_hat_lab = np.array([0, 1, 0])\n",
    "        d3_hat_lab = np.array([0, 0, 1])\n",
    "        r = R.from_rotvec([[-rot[0], 0, 0], [0, -rot[1], 0], [0, 0, rot[2]]])\n",
    "        for i, rotation in enumerate(r):\n",
    "            d1_hat_lab = rotation.apply(d1_hat_lab)\n",
    "            d2_hat_lab = rotation.apply(d2_hat_lab)\n",
    "            d3_hat_lab = rotation.apply(d3_hat_lab)\n",
    "        self.d1_hat_lab = d1_hat_lab\n",
    "        self.d2_hat_lab = d2_hat_lab\n",
    "        self.d3_hat_lab = d3_hat_lab\n",
    "\n",
    "    def detector_to_lab_coords(self, det_pixels: list[list[int]]):\n",
    "        converted = []\n",
    "        for pixel in det_pixels:\n",
    "            pixel_info = pixel + [0]\n",
    "            without_rotate = np.array([self.pixel_size, self.pixel_size, 0]) * (\n",
    "                pixel_info\n",
    "            ) + np.array([-self.poni[0], -self.poni[1], self.clen])\n",
    "\n",
    "            converted.append(\n",
    "                without_rotate[0] * self.d1_hat_lab\n",
    "                + without_rotate[1] * self.d2_hat_lab\n",
    "                + without_rotate[2] * self.d3_hat_lab\n",
    "            )\n",
    "        return converted\n",
    "\n",
    "    def lab_to_sample_coords(self, lab_coords: list[list[int | float]]):\n",
    "        return [\n",
    "            coord[0] * self.X1_hat + coord[1] * self.X2_hat + coord[2] * self.X3_hat\n",
    "            for coord in lab_coords\n",
    "        ]\n",
    "\n",
    "    def detector_to_sample_coords(self, det_pixels: list[list[int]]):\n",
    "        return self.lab_to_sample_coords(self.detector_to_lab_coords(det_pixels))"
   ]
  },
  {
   "cell_type": "code",
   "execution_count": null,
   "id": "217fb857",
   "metadata": {},
   "outputs": [],
   "source": [
    "coord = sgeom_coordinate(\n",
    "    X1=[0, 0, 1],\n",
    "    X2=[1, 0, 0],\n",
    "    X3=[0, 1, 0],\n",
    "    rot=np.pi * np.array([0.5, 0, 0]),\n",
    "    clen=0.13,\n",
    "    poni=[0.12, 0.12],\n",
    "    pixel_size=2e-4,\n",
    ")\n",
    "print((lab := coord.detector_to_lab_coords(det_pixels=[[0, 0], [1, 1]])))\n",
    "print(coord.lab_to_sample_coords(lab))"
   ]
  },
  {
   "cell_type": "code",
   "execution_count": 3,
   "id": "031b6ca5-bcaf-4f56-a367-a0d9888c85eb",
   "metadata": {},
   "outputs": [],
   "source": [
    "photon_energy = 9.3 # keV\n",
    "wavelength = 12.398/photon_energy # Angstrom\n",
    "clen = 0.13 # meter\n",
    "# rotation in radian\n",
    "rot1 = 0.0\n",
    "rot2 = 0.0\n",
    "rot3 = 0.0\n",
    "rot3 = np.pi/2\n",
    "rot2 = np.pi/4"
   ]
  },
  {
   "cell_type": "code",
   "execution_count": 9,
   "id": "66801a7e-2701-4fd0-adb6-68787e3d422e",
   "metadata": {},
   "outputs": [
    {
     "name": "stdout",
     "output_type": "stream",
     "text": [
      "[1.57009246e-16 7.07106781e-01 7.07106781e-01] [-1.00000000e+00  2.22044605e-16  0.00000000e+00] [-1.57009246e-16 -7.07106781e-01  7.07106781e-01]\n"
     ]
    }
   ],
   "source": [
    "sgeom = sgeom_coordinate(rot=[rot1,rot2,rot3])\n",
    "print(sgeom.d1_hat_lab, sgeom.d2_hat_lab, sgeom.d3_hat_lab)"
   ]
  },
  {
   "cell_type": "code",
   "execution_count": 13,
   "id": "e3b016ad-54d9-4c39-981d-2dd1ff5c6684",
   "metadata": {},
   "outputs": [
    {
     "name": "stdout",
     "output_type": "stream",
     "text": [
      "[600 600   0]\n"
     ]
    }
   ],
   "source": [
    "# PONI in detector system\n",
    "det_size = np.array([1200, 1200]) # in pixel\n",
    "pixel_size = 2e-4 # meter\n",
    "poni_det = np.append(det_size//2,0)\n",
    "print(poni_det)\n",
    "beam_center = []"
   ]
  }
 ],
 "metadata": {
  "kernelspec": {
   "display_name": "Python 3.10.7 64-bit",
   "language": "python",
   "name": "python3"
  },
  "language_info": {
   "codemirror_mode": {
    "name": "ipython",
    "version": 3
   },
   "file_extension": ".py",
   "mimetype": "text/x-python",
   "name": "python",
   "nbconvert_exporter": "python",
   "pygments_lexer": "ipython3",
   "version": "3.10.7"
  },
  "vscode": {
   "interpreter": {
    "hash": "26de051ba29f2982a8de78e945f0abaf191376122a1563185a90213a26c5da77"
   }
  }
 },
 "nbformat": 4,
 "nbformat_minor": 5
}
