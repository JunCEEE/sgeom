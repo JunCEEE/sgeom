{
 "cells": [
  {
   "cell_type": "code",
   "execution_count": 2,
   "id": "b33f3690-d91f-49d9-9772-1683af9b22ce",
   "metadata": {},
   "outputs": [],
   "source": [
    "import numpy as np\n",
    "import numpy.linalg as LA\n",
    "from scipy.spatial.transform import Rotation as R\n",
    "from rich.progress import track\n",
    "import matplotlib.pyplot as plt"
   ]
  },
  {
   "cell_type": "code",
   "execution_count": 6,
   "id": "b2620209-8ab9-4c8a-af7b-e6bb870615e9",
   "metadata": {},
   "outputs": [],
   "source": [
    "class sgeom_coordinate:\n",
    "    def __init__(\n",
    "        self,\n",
    "        clen,\n",
    "        poni,\n",
    "        pixel_size,\n",
    "        X1=[0, 0, 1],\n",
    "        X2=[1, 0, 0],\n",
    "        X3=[0, 1, 0],\n",
    "        rot=[0.0, 0.0, 0.0],\n",
    "    ):\n",
    "        self.clen = clen\n",
    "        self.poni = poni + [0]\n",
    "        self.pixel_size = pixel_size\n",
    "\n",
    "        # Lab direction vectors by sample vectors\n",
    "        self.X1_hat = np.array(X1) / LA.norm(X1)  # Sample z\n",
    "        self.X2_hat = np.array(X2) / LA.norm(X2)  # Sample x\n",
    "        self.X3_hat = np.array(X3) / LA.norm(X3)  # Sample y\n",
    "        # Det coordinate expressed by lab vectors\n",
    "        d1_hat_lab = np.array([1, 0, 0])\n",
    "        d2_hat_lab = np.array([0, 1, 0])\n",
    "        d3_hat_lab = np.array([0, 0, 1])\n",
    "        r = R.from_rotvec([[-rot[0], 0, 0], [0, -rot[1], 0], [0, 0, rot[2]]])\n",
    "        for i, rotation in enumerate(r):\n",
    "            d1_hat_lab = rotation.apply(d1_hat_lab)\n",
    "            d2_hat_lab = rotation.apply(d2_hat_lab)\n",
    "            d3_hat_lab = rotation.apply(d3_hat_lab)\n",
    "        self.d1_hat_lab = d1_hat_lab\n",
    "        self.d2_hat_lab = d2_hat_lab\n",
    "        self.d3_hat_lab = d3_hat_lab\n",
    "\n",
    "    def detector_to_lab_coords(\n",
    "        self, det_pixels: list[list[int]]\n",
    "    ) -> list[np.ndarray[float]]:\n",
    "        converted = []\n",
    "        for pixel in det_pixels:\n",
    "            pixel_info = np.append(pixel, 0)\n",
    "            without_rotate = np.array([self.pixel_size, self.pixel_size, 0]) * (\n",
    "                pixel_info\n",
    "            ) + np.array([-self.poni[0], -self.poni[1], self.clen])\n",
    "\n",
    "            converted.append(\n",
    "                without_rotate[0] * self.d1_hat_lab\n",
    "                + without_rotate[1] * self.d2_hat_lab\n",
    "                + without_rotate[2] * self.d3_hat_lab\n",
    "            )\n",
    "        return converted\n",
    "\n",
    "    def lab_to_sample_coords(\n",
    "        self, lab_coords: list[list[int | float]]\n",
    "    ) -> list[np.ndarray[float]]:\n",
    "        return [\n",
    "            coord[0] * self.X1_hat + coord[1] * self.X2_hat + coord[2] * self.X3_hat\n",
    "            for coord in lab_coords\n",
    "        ]\n",
    "\n",
    "    def detector_to_sample_coords(self, det_pixels: list[list[int]]):\n",
    "        return self.lab_to_sample_coords(self.detector_to_lab_coords(det_pixels))"
   ]
  },
  {
   "cell_type": "code",
   "execution_count": null,
   "id": "217fb857",
   "metadata": {},
   "outputs": [],
   "source": [
    "coord = sgeom_coordinate(\n",
    "    X1=[0, 0, 1],\n",
    "    X2=[1, 0, 0],\n",
    "    X3=[0, 1, 0],\n",
    "    rot=np.pi * np.array([0.5, 0, 0]),\n",
    "    clen=0.13,\n",
    "    poni=[0.12, 0.12],\n",
    "    pixel_size=2e-4,\n",
    ")\n",
    "print((lab := coord.detector_to_lab_coords(det_pixels=[[0, 0], [1, 1]])))\n",
    "print(coord.lab_to_sample_coords(lab))"
   ]
  },
  {
   "cell_type": "code",
   "execution_count": null,
   "id": "a791e333",
   "metadata": {},
   "outputs": [],
   "source": [
    "def get_q_values(\n",
    "    pixels: list[list[int]],\n",
    "    geom: sgeom_coordinate,\n",
    "    beam_center: list[float],\n",
    "    wavelength: float = 12.398 / 9.3,\n",
    "):\n",
    "    ewald_radius = 2 * np.pi / wavelength\n",
    "    lab_coords = geom.detector_to_lab_coords(pixels)\n",
    "\n",
    "    beam_center = geom.detector_to_lab_coords([np.divide(beam_center, geom.pixel_size)])\n",
    "    assert len(beam_center) == 1\n",
    "    beam_center = beam_center[0]\n",
    "\n",
    "    k0 = beam_center / LA.norm(beam_center) * ewald_radius\n",
    "\n",
    "    q_values = []\n",
    "    for coord in lab_coords:\n",
    "        q_values.append(coord / LA.norm(coord) * ewald_radius - k0)\n",
    "    return q_values"
   ]
  },
  {
   "cell_type": "code",
   "execution_count": null,
   "id": "c68cb626",
   "metadata": {},
   "outputs": [],
   "source": [
    "def generate_pixel_values(step=5):\n",
    "    x = []\n",
    "    for i in track(range(0, 1200, step)):\n",
    "        x.append(\n",
    "            get_q_values([[i, o] for o in range(0, 1200, step)], coord, [0.12, 0.12])\n",
    "        )\n",
    "    return np.array(x)"
   ]
  },
  {
   "cell_type": "code",
   "execution_count": null,
   "id": "c3d6b4c5",
   "metadata": {},
   "outputs": [],
   "source": [
    "data = generate_pixel_values(step=5)\n",
    "data *= 1 / data.max()\n",
    "normed = np.apply_along_axis(LA.norm, 2, data)\n",
    "g = plt.imshow(normed, origin=\"lower\")"
   ]
  }
 ],
 "metadata": {
  "kernelspec": {
   "display_name": "Python 3.10.7 64-bit",
   "language": "python",
   "name": "python3"
  },
  "language_info": {
   "codemirror_mode": {
    "name": "ipython",
    "version": 3
   },
   "file_extension": ".py",
   "mimetype": "text/x-python",
   "name": "python",
   "nbconvert_exporter": "python",
   "pygments_lexer": "ipython3",
   "version": "3.10.7"
  },
  "vscode": {
   "interpreter": {
    "hash": "26de051ba29f2982a8de78e945f0abaf191376122a1563185a90213a26c5da77"
   }
  }
 },
 "nbformat": 4,
 "nbformat_minor": 5
}
